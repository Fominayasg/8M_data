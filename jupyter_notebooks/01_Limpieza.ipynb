{
 "cells": [
  {
   "cell_type": "markdown",
   "id": "technical-entity",
   "metadata": {
    "toc": true
   },
   "source": [
    "<h1>Table of Contents<span class=\"tocSkip\"></span></h1>\n",
    "<div class=\"toc\"><ul class=\"toc-item\"><li><span><a href=\"#Origen-de-los-datos\" data-toc-modified-id=\"Origen-de-los-datos-1\"><span class=\"toc-item-num\">1&nbsp;&nbsp;</span>Origen de los datos</a></span></li><li><span><a href=\"#Importar-csv\" data-toc-modified-id=\"Importar-csv-2\"><span class=\"toc-item-num\">2&nbsp;&nbsp;</span>Importar <code>csv</code></a></span></li><li><span><a href=\"#Columnas\" data-toc-modified-id=\"Columnas-3\"><span class=\"toc-item-num\">3&nbsp;&nbsp;</span>Columnas</a></span></li></ul></div>"
   ]
  },
  {
   "cell_type": "code",
   "execution_count": null,
   "id": "micro-evidence",
   "metadata": {},
   "outputs": [],
   "source": [
    "import pandas as pd #manejar dataframes(datos en formato tabular)\n",
    "import numpy as np #manejo de variables\n",
    "import chardet #descubrir encoding csv"
   ]
  },
  {
   "cell_type": "markdown",
   "id": "reverse-scotland",
   "metadata": {},
   "source": [
    "# Origen de los datos\n",
    "\n",
    "**Portal EDUCAbase** - (Ministerio de Educación y formación profesional)\n",
    "\n",
    "+ [**Máster**](https://estadisticas.mecd.gob.es/EducaJaxiPx/Tabla.htm?path=/Universitaria/Alumnado/EEU_2021/Master/Matriculados//l0/&file=Mat_Master_Sex_Ded_Rama_Univ.px)\n",
    "\n",
    "+ [**Doctorado**](https://estadisticas.mecd.gob.es/EducaJaxiPx/Tabla.htm?path=/Universitaria/Alumnado/EEU_2021/Doctorado/Matriculados//l0/&file=Mat_Doct_Sex_Nac_Rama_Univ.px)\n",
    "\n",
    "+ [**Grado**](http://estadisticas.mecd.gob.es/EducaJaxiPx/Tabla.htm?path=/Universitaria/Alumnado/EEU_2021/GradoCiclo/Matriculados//l0/&file=Mat_Grad_Sex_Ded_Rama_Univ.px&type=pcaxis&L=0http://estadisticas.mecd.gob.es/EducaJaxiPx/Tabla.htm?path=/Universitaria/Alumnado/EEU_2021/GradoCiclo/Matriculados//l0/&file=Mat_Grad_Sex_Ded_Rama_Univ.px&type=pcaxis&L=0)\n"
   ]
  },
  {
   "cell_type": "markdown",
   "id": "minus-country",
   "metadata": {},
   "source": [
    "# Importar `csv`"
   ]
  },
  {
   "cell_type": "code",
   "execution_count": null,
   "id": "compact-german",
   "metadata": {},
   "outputs": [],
   "source": [
    "pd.read_csv(\"../data/master/Mat_Master_hom_Ded-comp_16-17.csv\")"
   ]
  },
  {
   "cell_type": "markdown",
   "id": "chronic-clone",
   "metadata": {},
   "source": [
    "Vemos el error: `ParserError: Error tokenizing data. C error: Expected 3 fields in line 6, saw 7`, lo cual quiere decir que las 5 primeras filas parecen tener menos columnas que las siguientes y pandas se hace un lio... Vamos a abrir nuestro `.csv`con un editor de texto par ver que está pasando.\n",
    "\n",
    "Nos damos cuenta de que las 5 primeras 5 filas no nos sirven, así que nos las vamos a saltar."
   ]
  },
  {
   "cell_type": "code",
   "execution_count": null,
   "id": "engaged-venture",
   "metadata": {},
   "outputs": [],
   "source": [
    "pd.read_csv(\"../data/master/Mat_Master_hom_Ded-comp_15-16.csv\",skiprows=5)"
   ]
  },
  {
   "cell_type": "markdown",
   "id": "alpha-passenger",
   "metadata": {},
   "source": [
    "¡BIEEEN! Ya vemos nuestros datos perfectamente ordenados, sin embargo parece que hay símbolos extraños... Concretamente si nos fijamos, esto ocurre en letras con tildes...letras`ñ`u otros simbolos propios del castellano concretamente(para entendernos, todos los que no existen en inglés).\n",
    "\n",
    "Esto probablemente se debe a que nuestro encoding no es demasiado apropiado, por defecto `pd.read_csv` utiliza el enconding `UTF-8`. Vamos a intentar averiguar cual es el encoding real de nuestros datos. "
   ]
  },
  {
   "cell_type": "code",
   "execution_count": null,
   "id": "pursuant-valuable",
   "metadata": {},
   "outputs": [],
   "source": [
    "#Enseñar primero con   print (src_file) y luego añadir el encoding\n",
    "with open(\"../data/Master/mat_Master_hom_Ded-comp_15-16.csv\") as src_file:\n",
    "    print (src_file.encoding)"
   ]
  },
  {
   "cell_type": "markdown",
   "id": "suitable-grocery",
   "metadata": {},
   "source": [
    "No me convence... probemos de otra manera\n",
    "\n",
    "[Biblioteca `chardet`](https://github.com/chardet/chardet)"
   ]
  },
  {
   "cell_type": "code",
   "execution_count": null,
   "id": "primary-poultry",
   "metadata": {},
   "outputs": [],
   "source": [
    "with open(\"../data/master/Mat_Master_hom_Ded-comp_15-16.csv\", 'rb') as f:\n",
    "    result = chardet.detect(f.read())\n",
    "    print (result['encoding'])"
   ]
  },
  {
   "cell_type": "code",
   "execution_count": null,
   "id": "finished-grant",
   "metadata": {},
   "outputs": [],
   "source": [
    "df =pd.read_csv(\"../data/master/Mat_Master_hom_Ded-comp_15-16.csv\",encoding=\"ISO-8859-1\",skiprows=5)"
   ]
  },
  {
   "cell_type": "code",
   "execution_count": null,
   "id": "needed-climb",
   "metadata": {},
   "outputs": [],
   "source": [
    "df.head(8)#nos muestra las primeras 5 filas por defecto pero podemos poner más"
   ]
  },
  {
   "cell_type": "markdown",
   "id": "blocked-adobe",
   "metadata": {},
   "source": [
    "# Columnas"
   ]
  },
  {
   "cell_type": "code",
   "execution_count": null,
   "id": "charitable-brunei",
   "metadata": {},
   "outputs": [],
   "source": [
    "df.columns"
   ]
  },
  {
   "cell_type": "code",
   "execution_count": null,
   "id": "quarterly-brazilian",
   "metadata": {},
   "outputs": [],
   "source": [
    "df.columns = ['Universidad', 'Ciencias Sociales y Jurídicas',\n",
    "       'Ingeniería y Arquitectura', 'Artes y Humanidades',\n",
    "       'Ciencias de la Salud', 'Ciencias', 'Unnamed: 6']\n",
    "df.head()"
   ]
  },
  {
   "cell_type": "code",
   "execution_count": null,
   "id": "medium-geology",
   "metadata": {},
   "outputs": [],
   "source": [
    "#Comprobamos qué contiene 'Unnamed: 6'\n",
    "df['Unnamed: 6'].unique()"
   ]
  },
  {
   "cell_type": "code",
   "execution_count": null,
   "id": "defined-amplifier",
   "metadata": {},
   "outputs": [],
   "source": [
    "#Como solo tiene valores nulos, la borramos\n",
    "df.drop ('Unnamed: 6', axis =1, inplace=True)\n",
    "df.head(8)"
   ]
  },
  {
   "cell_type": "code",
   "execution_count": null,
   "id": "intellectual-wagon",
   "metadata": {},
   "outputs": [],
   "source": [
    "#df.iloc(eje 0-fila/1-columna)[numero de fila/columna][posicion dentro de la fila/columna])\n",
    "print(df.iloc(1)[1][0])\n",
    "print(df.iloc(1)[1][1])\n",
    "print(df.iloc(1)[1][2])\n",
    "print(df.iloc(1)[1][3])\n",
    "print(df.iloc(1)[1][4]) #ya no me va a interesar"
   ]
  },
  {
   "cell_type": "code",
   "execution_count": null,
   "id": "authorized-personality",
   "metadata": {},
   "outputs": [],
   "source": [
    "#Para no hardcodearlo(escrbirlo a mano uno por uno) haremos un bucle\n",
    "\n",
    "\n",
    "print(range(4)) #me da un rango de cero a 4\n",
    "print (\"____________________________________\")\n",
    "\n",
    "for item in range(4):\n",
    "    print (item)"
   ]
  },
  {
   "cell_type": "markdown",
   "id": "wrong-princeton",
   "metadata": {},
   "source": [
    "¿¿¿¿Qué ha pasado con el 4????\n",
    "\n",
    "En Python hay que tener en cuenta que en los rangos no se incluye el último elemento.\n",
    "\n",
    "En este caso nos viene perfecto porque la fila en posición 4 ya no nos interesa. Solo queremos la información de la 0 a la 3."
   ]
  },
  {
   "cell_type": "code",
   "execution_count": null,
   "id": "driven-premises",
   "metadata": {},
   "outputs": [],
   "source": [
    "def columnitas(df):\n",
    "    lista_col =[\"Curso\", \"Tipo_centro\",\"Sexo\",\"Dedicacion\"]\n",
    "    for i in range (4):\n",
    "        df[f\"{lista_col[i]}\"] = df.iloc(1)[1][i]"
   ]
  },
  {
   "cell_type": "code",
   "execution_count": null,
   "id": "separate-ceremony",
   "metadata": {},
   "outputs": [],
   "source": [
    "columnitas(df)"
   ]
  },
  {
   "cell_type": "code",
   "execution_count": null,
   "id": "vital-february",
   "metadata": {},
   "outputs": [],
   "source": [
    "df"
   ]
  },
  {
   "cell_type": "code",
   "execution_count": null,
   "id": "chief-differential",
   "metadata": {},
   "outputs": [],
   "source": [
    "df = df.iloc(0)[4:-2]\n",
    "df.tail()"
   ]
  },
  {
   "cell_type": "code",
   "execution_count": null,
   "id": "complex-religious",
   "metadata": {},
   "outputs": [],
   "source": [
    "df.head()"
   ]
  },
  {
   "cell_type": "code",
   "execution_count": null,
   "id": "dutch-fundamental",
   "metadata": {},
   "outputs": [],
   "source": [
    "#Vamos a comprobar que no tengamos nada raro\n",
    "df[\"Curso\"].value_counts()"
   ]
  },
  {
   "cell_type": "code",
   "execution_count": null,
   "id": "imposed-thesis",
   "metadata": {},
   "outputs": [],
   "source": [
    "#Ahora para todas las nuevas columnas\n",
    "lista_col =[\"Curso\", \"Tipo_centro\",\"Sexo\",\"Dedicacion\"]\n",
    "for i in lista_col:\n",
    "    print(\"\\n\\n________\"+i+\"________\")\n",
    "    print(df[f\"{i}\"].value_counts())"
   ]
  },
  {
   "cell_type": "markdown",
   "id": "binary-reserve",
   "metadata": {},
   "source": [
    "Pero yo no tengo un único csv... tengo 130 😭 así que tendremos que aplicarlo a los demás. Para poder distinguirlos vamos a añadir una última columna con la única información que nos falta:\n",
    "\n",
    "- Mat_Master_hom_Ded-comp_15-16.csv -->>> Son estudiantes de máster"
   ]
  },
  {
   "cell_type": "code",
   "execution_count": null,
   "id": "accepted-capitol",
   "metadata": {},
   "outputs": [],
   "source": [
    "df[\"master\"] = \"master\"\n",
    "df.head()"
   ]
  },
  {
   "cell_type": "code",
   "execution_count": null,
   "id": "ethical-recall",
   "metadata": {},
   "outputs": [],
   "source": [
    "df.shape"
   ]
  }
 ],
 "metadata": {
  "kernelspec": {
   "display_name": "ironhack",
   "language": "python",
   "name": "ironhack"
  },
  "language_info": {
   "codemirror_mode": {
    "name": "ipython",
    "version": 3
   },
   "file_extension": ".py",
   "mimetype": "text/x-python",
   "name": "python",
   "nbconvert_exporter": "python",
   "pygments_lexer": "ipython3",
   "version": "3.8.5"
  },
  "toc": {
   "base_numbering": 1,
   "nav_menu": {},
   "number_sections": true,
   "sideBar": true,
   "skip_h1_title": false,
   "title_cell": "Table of Contents",
   "title_sidebar": "Contents",
   "toc_cell": true,
   "toc_position": {},
   "toc_section_display": true,
   "toc_window_display": false
  },
  "varInspector": {
   "cols": {
    "lenName": 16,
    "lenType": 16,
    "lenVar": 40
   },
   "kernels_config": {
    "python": {
     "delete_cmd_postfix": "",
     "delete_cmd_prefix": "del ",
     "library": "var_list.py",
     "varRefreshCmd": "print(var_dic_list())"
    },
    "r": {
     "delete_cmd_postfix": ") ",
     "delete_cmd_prefix": "rm(",
     "library": "var_list.r",
     "varRefreshCmd": "cat(var_dic_list()) "
    }
   },
   "types_to_exclude": [
    "module",
    "function",
    "builtin_function_or_method",
    "instance",
    "_Feature"
   ],
   "window_display": false
  }
 },
 "nbformat": 4,
 "nbformat_minor": 5
}
