{
 "cells": [
  {
   "cell_type": "markdown",
   "id": "approved-forum",
   "metadata": {
    "toc": true
   },
   "source": [
    "<h1>Table of Contents<span class=\"tocSkip\"></span></h1>\n",
    "<div class=\"toc\"><ul class=\"toc-item\"><li><span><a href=\"#Función-para-limpiar-cualquier-dataframe-con-la-misma-estructura-que-el-nuestro\" data-toc-modified-id=\"Función-para-limpiar-cualquier-dataframe-con-la-misma-estructura-que-el-nuestro-1\"><span class=\"toc-item-num\">1&nbsp;&nbsp;</span>Función para limpiar cualquier dataframe con la misma estructura que el nuestro</a></span></li></ul></div>"
   ]
  },
  {
   "cell_type": "code",
   "execution_count": 1,
   "id": "honey-drawing",
   "metadata": {},
   "outputs": [],
   "source": [
    "import pandas as pd #manejar dataframes(datos en formato tabular)\n",
    "import numpy as np #manejo de variables\n",
    "import os #nos permite navegar por nuestras carpetas"
   ]
  },
  {
   "cell_type": "code",
   "execution_count": 2,
   "id": "individual-calgary",
   "metadata": {},
   "outputs": [
    {
     "data": {
      "text/plain": [
       "['../data/doctorado', '../data/master', '../data/grado']"
      ]
     },
     "execution_count": 2,
     "metadata": {},
     "output_type": "execute_result"
    }
   ],
   "source": [
    "#Primero necesito hacer una lista con todas las carpetas donde tengo mis datos\n",
    "ruta_origen = \"../data\"\n",
    "carpetas = []\n",
    "for name in os.listdir(ruta_origen):\n",
    "    if os.path.isdir(os.path.join(ruta_origen, name)):\n",
    "        carpetas.append(ruta_origen+\"/\"+name)\n",
    "        \n",
    "carpetas"
   ]
  },
  {
   "cell_type": "code",
   "execution_count": 3,
   "id": "threatened-uganda",
   "metadata": {},
   "outputs": [],
   "source": [
    "#Ahora quiero la ruta a toooodos mis archivos\n",
    "rutas_csv =[]\n",
    "for carpeta in carpetas:\n",
    "    for archivo in os.listdir(carpeta):\n",
    "        rutas_csv.append(carpeta+\"/\"+archivo)"
   ]
  },
  {
   "cell_type": "code",
   "execution_count": 4,
   "id": "controversial-mainland",
   "metadata": {},
   "outputs": [
    {
     "data": {
      "text/plain": [
       "['../data/doctorado/Mat_Doct_hom_Ded-comp_17-18_ads.csv',\n",
       " '../data/doctorado/Mat_Doct_hom_Ded-comp_19-20.csv',\n",
       " '../data/doctorado/Mat_Doct_muj_Ded-comp_15-16_otros.csv',\n",
       " '../data/doctorado/Mat_Doct_hom_Ded-comp_17-18.csv',\n",
       " '../data/doctorado/Mat_Doct_muj_Ded-comp_15-16.csv',\n",
       " '../data/doctorado/Mat_Doct_hom_Ded-comp_16-17_ads.csv',\n",
       " '../data/doctorado/Mat_Doct_muj_Ded-comp_19-20_ads.csv',\n",
       " '../data/doctorado/Mat_Doct_muj_Ded-comp_18-19_ads.csv',\n",
       " '../data/doctorado/Mat_Doct_hom_Ded-comp_16-17_otros.csv',\n",
       " '../data/doctorado/Mat_Doct_hom_Ded-comp_19-20_otros.csv',\n",
       " '../data/doctorado/Mat_Doct_muj_Ded-comp_17-18_otros.csv',\n",
       " '../data/doctorado/Mat_Doct_muj_Ded-comp_17-18_ads.csv',\n",
       " '../data/doctorado/Mat_Doct_hom_Ded-comp_18-19_otros.csv',\n",
       " '../data/doctorado/Mat_Doct_muj_Ded-comp_16-17_ads.csv',\n",
       " '../data/doctorado/Mat_Doct_hom_Ded-comp_19-20_ads.csv',\n",
       " '../data/doctorado/Mat_Doct_hom_Ded-comp_18-19_ads.csv',\n",
       " '../data/doctorado/Mat_Doct_hom_Ded-comp_16-17.csv',\n",
       " '../data/doctorado/Mat_Doct_muj_Ded-comp_18-19.csv',\n",
       " '../data/doctorado/Mat_Doct_muj_Ded-comp_15-16_ads.csv',\n",
       " '../data/doctorado/Mat_Doct_muj_Ded-comp_16-17_otros.csv',\n",
       " '../data/doctorado/Mat_Doct_muj_Ded-comp_19-20_otros.csv',\n",
       " '../data/doctorado/Mat_Doct_hom_Ded-comp_17-18_otros.csv',\n",
       " '../data/doctorado/Mat_Doct_hom_Ded-comp_15-16_otros.csv',\n",
       " '../data/doctorado/Mat_Doct_muj_Ded-comp_16-17.csv',\n",
       " '../data/doctorado/Mat_Doct_hom_Ded-comp_18-19.csv',\n",
       " '../data/doctorado/Mat_Doct_hom_Ded-comp_15-16_ads.csv',\n",
       " '../data/doctorado/Mat_Doct_hom_Ded-comp_15-16.csv',\n",
       " '../data/doctorado/Mat_Doct_muj_Ded-comp_17-18.csv',\n",
       " '../data/doctorado/Mat_Doct_muj_Ded-comp_19-20.csv',\n",
       " '../data/doctorado/Mat_Doct_muj_Ded-comp_18-19_otros.csv',\n",
       " '../data/master/Mat_Master_muj_Ded-comp_16-17.csv',\n",
       " '../data/master/Mat_Master_muj_Ded-parcial_19-20_otros.csv',\n",
       " '../data/master/Mat_Master_hom_Ded-comp_18-19.csv',\n",
       " '../data/master/Mat_Master_hom_Ded-comp_17-18_otros.csv',\n",
       " '../data/master/Mat_Master_muj_Ded-parcial_19-20.csv',\n",
       " '../data/master/Mat_Master_muj_Ded-parcial_17-18.csv',\n",
       " '../data/master/Mat_Master_muj_Ded-comp_19-20_otros.csv',\n",
       " '../data/master/Mat_Master_muj_Ded-parcial_17-18_ads.csv',\n",
       " '../data/master/Mat_Master_muj_Ded-comp_18-19_ads.csv',\n",
       " '../data/master/Mat_Master_muj_Ded-comp_19-20_ads.csv',\n",
       " '../data/master/Mat_Master_muj_Ded-parcial_16-17_ads.csv',\n",
       " '../data/master/Mat_Master_muj_Ded-comp_16-17_otros.csv',\n",
       " '../data/master/Mat_Master_muj_Ded-parcial_16-17_otros.csv',\n",
       " '../data/master/Mat_Master_hom_Ded-comp_16-17_ads.csv',\n",
       " '../data/master/Mat_Master_hom_Ded-parcial_18-19_otros.csv',\n",
       " '../data/master/Mat_Master_hom_Ded-parcial_18-19_ads.csv',\n",
       " '../data/master/Mat_Master_hom_Ded-parcial_15-16.csv',\n",
       " '../data/master/Mat_Master_hom_Ded-parcial_19-20_ads.csv',\n",
       " '../data/master/Mat_Master_hom_Ded-comp_15-16_otros.csv',\n",
       " '../data/master/Mat_Master_hom_Ded-comp_17-18_ads.csv',\n",
       " '../data/master/Mat_Master_hom_Ded-parcial_16-17_ads.csv',\n",
       " '../data/master/Mat_Master_hom_Ded-parcial_19-20_otros.csv',\n",
       " '../data/master/Mat_Master_hom_Ded-parcial_18-19.csv',\n",
       " '../data/master/Mat_Master_hom_Ded-comp_18-19_ads.csv',\n",
       " '../data/master/Mat_Master_hom_Ded-comp_19-20_ads.csv',\n",
       " '../data/master/Mat_Master_hom_Ded-parcial_16-17_otros.csv',\n",
       " '../data/master/Mat_Master_hom_Ded-parcial_17-18_ads.csv',\n",
       " '../data/master/Mat_Master_muj_Ded-parcial_18-19_ads.csv',\n",
       " '../data/master/Mat_Master_muj_Ded-parcial_19-20_ads.csv',\n",
       " '../data/master/Mat_Master_muj_Ded-comp_16-17_ads.csv',\n",
       " '../data/master/Mat_Master_muj_Ded-parcial_16-17.csv',\n",
       " '../data/master/Mat_Master_muj_Ded-comp_19-20.csv',\n",
       " '../data/master/Mat_Master_muj_Ded-parcial_18-19_otros.csv',\n",
       " '../data/master/Mat_Master_muj_Ded-comp_17-18.csv',\n",
       " '../data/master/Mat_Master_muj_Ded-comp_17-18_ads.csv',\n",
       " '../data/master/Mat_Master_hom_Ded-comp_15-16.csv',\n",
       " '../data/master/Mat_Master_muj_Ded-comp_18-19_otros.csv',\n",
       " '../data/master/Mat_Master_hom_Ded-parcial_16-17.csv',\n",
       " '../data/master/Mat_Master_muj_Ded-parcial_15-16_otros.csv',\n",
       " '../data/master/Mat_Master_hom_Ded-parcial_15-16_ads.csv',\n",
       " '../data/master/Mat_Master_muj_Ded-comp_15-16_otros.csv',\n",
       " '../data/master/Mat_Master_muj_Ded-comp_15-16.csv',\n",
       " '../data/master/Mat_Master_muj_Ded-comp_17-18_otros.csv',\n",
       " '../data/master/Mat_Master_hom_Ded-comp_17-18.csv',\n",
       " '../data/master/Mat_Master_hom_Ded-comp_19-20.csv',\n",
       " '../data/master/Mat_Master_hom_Ded-comp_19-20_otros.csv',\n",
       " '../data/master/Mat_Master_muj_Ded-parcial_18-19.csv',\n",
       " '../data/master/Mat_Master_muj_Ded-parcial_17-18_otros.csv',\n",
       " '../data/master/Mat_Master_hom_Ded-comp_16-17_otros.csv',\n",
       " '../data/master/Mat_Master_muj_Ded-comp_15-16_ads.csv',\n",
       " '../data/master/Mat_Master_hom_Ded-comp_15-16_ads.csv.csv',\n",
       " '../data/master/Mat_Master_muj_Ded-parcial_15-16_ads.csv',\n",
       " '../data/master/Mat_Master_hom_Ded-parcial_15-16_otros.csv',\n",
       " '../data/master/Mat_Master_muj_Ded-parcial_15-16.csv',\n",
       " '../data/master/Mat_Master_hom_Ded-comp_16-17.csv',\n",
       " '../data/master/Mat_Master_muj_Ded-comp_18-19.csv',\n",
       " '../data/master/Mat_Master_hom_Ded-comp_18-19_otros.csv',\n",
       " '../data/master/Mat_Master_hom_Ded-parcial_19-20.csv',\n",
       " '../data/master/Mat_Master_hom_Ded-parcial_17-18_otros.csv',\n",
       " '../data/master/Mat_Master_hom_Ded-parcial_17-18.csv',\n",
       " '../data/master/Mat_Master_hom_Ded-comp_15-16_ads.csv',\n",
       " '../data/grado/Mat_Grad_muj_Ded-parcial_15-16_ads.csv',\n",
       " '../data/grado/Mat_Grad_muj_Ded-parcial_16-17.csv',\n",
       " '../data/grado/Mat_Grad_muj_Ded-comp_15-16_ads.csv',\n",
       " '../data/grado/Mat_Grad_hom_Ded-parcial_18-19.csv',\n",
       " '../data/grado/Mat_Grad_hom_Ded-parcial_15-16.csv',\n",
       " '../data/grado/Mat_Grad_hom_Ded-comp_15-16_ads.csv',\n",
       " '../data/grado/Mat_Grad_hom_Ded-parcial_15-16_ads.csv',\n",
       " '../data/grado/Mat_Grad_muj_Ded-parcial_17-18.csv',\n",
       " '../data/grado/Mat_Grad_muj_Ded-parcial_19-20.csv',\n",
       " '../data/grado/Mat_Grad_hom_Ded-parcial_16-17_ads.csv',\n",
       " '../data/grado/Mat_Grad_hom_Ded-comp_17-18_ads.csv',\n",
       " '../data/grado/Mat_Grad_hom_Ded-parcial_17-18.csv',\n",
       " '../data/grado/Mat_Grad_hom_Ded-comp_16-17_ads.csv',\n",
       " '../data/grado/Mat_Grad_hom_Ded-parcial_19-20.csv',\n",
       " '../data/grado/Mat_Grad_hom_Ded-parcial_17-18_ads.csv',\n",
       " '../data/grado/Mat_Grad_muj_Ded-comp_19-20_ads.csv',\n",
       " '../data/grado/Mat_Grad_muj_Ded-comp_18-19_ads.csv',\n",
       " '../data/grado/Mat_Grad_muj_Ded-parcial_19-20_ads.csv',\n",
       " '../data/grado/Mat_Grad_muj_Ded-parcial_18-19_ads.csv',\n",
       " '../data/grado/Mat_Grad_muj_Ded-parcial_17-18_ads.csv',\n",
       " '../data/grado/Mat_Grad_muj_Ded-comp_17-18_ads.csv',\n",
       " '../data/grado/Mat_Grad_muj_Ded-comp_16-17_ads.csv',\n",
       " '../data/grado/Mat_Grad_muj_Ded-parcial_18-19.csv',\n",
       " '../data/grado/Mat_Grad_muj_Ded-parcial_16-17_ads.csv',\n",
       " '../data/grado/Mat_Grad_muj_Ded-parcial_15-16..csv',\n",
       " '../data/grado/Mat_Grad_hom_Ded-comp_19-20_ads.csv',\n",
       " '../data/grado/Mat_Grad_hom_Ded-comp_18-19_ads.csv',\n",
       " '../data/grado/Mat_Grad_hom_Ded-parcial_16-17.csv',\n",
       " '../data/grado/Mat_Grad_hom_Ded-parcial_19-20_ads.csv',\n",
       " '../data/grado/Mat_Grad_hom_Ded-parcial_18-19_ads.csv']"
      ]
     },
     "execution_count": 4,
     "metadata": {},
     "output_type": "execute_result"
    }
   ],
   "source": [
    "rutas_csv"
   ]
  },
  {
   "cell_type": "code",
   "execution_count": 6,
   "id": "systematic-broadcast",
   "metadata": {},
   "outputs": [],
   "source": [
    "#Mat_Master_hom_Ded-comp_15-16_ads.csv"
   ]
  },
  {
   "cell_type": "code",
   "execution_count": 7,
   "id": "forced-graham",
   "metadata": {},
   "outputs": [
    {
     "data": {
      "text/plain": [
       "121"
      ]
     },
     "execution_count": 7,
     "metadata": {},
     "output_type": "execute_result"
    }
   ],
   "source": [
    "len(rutas_csv)"
   ]
  },
  {
   "cell_type": "markdown",
   "id": "legendary-witness",
   "metadata": {},
   "source": [
    "# Función para limpiar cualquier dataframe con la misma estructura que el nuestro"
   ]
  },
  {
   "cell_type": "code",
   "execution_count": null,
   "id": "classified-kenya",
   "metadata": {},
   "outputs": [],
   "source": [
    "def columnitas(df):\n",
    "    lista_col =[\"Curso\", \"Tipo_centro\",\"Sexo\",\"Dedicacion\"]\n",
    "    for i in range (4):\n",
    "        df[f\"{lista_col[i]}\"] = df.iloc(1)[1][i]"
   ]
  },
  {
   "cell_type": "code",
   "execution_count": null,
   "id": "directed-official",
   "metadata": {},
   "outputs": [],
   "source": [
    "def pandas_clean(ruta):\n",
    "    if ruta.startswith(\"../data/grado\"):\n",
    "        df = pd.read_csv(ruta,encoding=\"ISO-8859-1\",skiprows=0)\n",
    "    else:\n",
    "        df = pd.read_csv(ruta,encoding=\"ISO-8859-1\",skiprows=5)\n",
    "\n",
    "    df.columns = ['Universidad', 'Ciencias Sociales y Jurídicas',\n",
    "       'Ingeniería y Arquitectura', 'Artes y Humanidades',\n",
    "       'Ciencias de la Salud', 'Ciencias', 'Unnamed: 6']\n",
    "\n",
    "    df.drop ('Unnamed: 6', axis =1, inplace=True)\n",
    "\n",
    "    columnitas(df)\n",
    "\n",
    "    if ruta.startswith(\"../data/doctorado\"):\n",
    "        df[\"Nivel\"] = \"doctorado\"\n",
    "\n",
    "    elif ruta.startswith(\"../data/master\"):\n",
    "        df[\"Nivel\"] = \"master\"\n",
    "\n",
    "    elif ruta.startswith(\"../data/grado\"):\n",
    "        df[\"Nivel\"] = \"grado\"\n",
    "\n",
    "    else:\n",
    "        df[\"Nivel\"] = \"otros\"\n",
    "\n",
    "    df = df.iloc(0)[4:-2]\n",
    "\n",
    "    return df"
   ]
  },
  {
   "cell_type": "markdown",
   "id": "leading-detection",
   "metadata": {},
   "source": [
    "Vamos a comprobar si nos deja el dataframe con el que ya habíamos trabajado igual que antes."
   ]
  },
  {
   "cell_type": "code",
   "execution_count": null,
   "id": "retired-jefferson",
   "metadata": {},
   "outputs": [],
   "source": [
    "comprobacion = pandas_clean(\"../data/master/mat_Master_hom_Ded-comp_15-16.csv\")\n",
    "comprobacion"
   ]
  },
  {
   "cell_type": "markdown",
   "id": "nasty-butterfly",
   "metadata": {},
   "source": [
    "**FUNCIOOOONAAAAAA!!!!!**\n",
    "![IMG](data:image/jpeg;base64,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)"
   ]
  },
  {
   "cell_type": "code",
   "execution_count": null,
   "id": "overall-wireless",
   "metadata": {},
   "outputs": [],
   "source": [
    "comprobacion.columns"
   ]
  },
  {
   "cell_type": "code",
   "execution_count": null,
   "id": "turned-supply",
   "metadata": {},
   "outputs": [],
   "source": [
    "frankenstein = pd.DataFrame(columns= comprobacion.columns)\n",
    "frankenstein"
   ]
  },
  {
   "cell_type": "code",
   "execution_count": null,
   "id": "heavy-waterproof",
   "metadata": {},
   "outputs": [],
   "source": [
    "for ruta in rutas_csv:\n",
    "    frankenstein = frankenstein.append(pandas_clean(ruta))"
   ]
  },
  {
   "cell_type": "code",
   "execution_count": null,
   "id": "conceptual-consistency",
   "metadata": {},
   "outputs": [],
   "source": [
    "frankenstein"
   ]
  },
  {
   "cell_type": "code",
   "execution_count": null,
   "id": "african-lighter",
   "metadata": {},
   "outputs": [],
   "source": [
    "frankenstein.Universidad.unique()"
   ]
  },
  {
   "cell_type": "code",
   "execution_count": null,
   "id": "practical-appointment",
   "metadata": {},
   "outputs": [],
   "source": [
    "raras = ['AutÃ³noma de Madrid', 'CÃ¡diz', 'CÃ³rdoba', 'JaÃ©n',\n",
    "       'Jaume I de CastellÃ³n', 'LeÃ³n', 'MÃ¡laga',\n",
    "       'Miguel HernÃ¡ndez de Elche',\n",
    "       'PaÃ\\xads Vasco/Euskal Herriko Unibertsitatea',\n",
    "       'PolitÃ©cnica de Cartagena', 'PolitÃ©cnica de Catalunya',\n",
    "       'PolitÃ©cnica de Madrid', 'PolitÃ¨cnica de ValÃ¨ncia',\n",
    "       'PÃºblica de Navarra', 'ValÃ¨ncia (Estudi General)',\n",
    "       'Universidades PÃºblicas No Presenciales',\n",
    "       'Nacional de EducaciÃ³n a Distancia', 'AtlÃ¡ntico Medio',\n",
    "       'Camilo JosÃ© Cela', 'CatÃ³lica de Valencia San Vicente MÃ¡rtir',\n",
    "       'CatÃ³lica San Antonio',\n",
    "       'CatÃ³lica Santa Teresa de JesÃºs de Ã\\x81vila',\n",
    "       'Europea del AtlÃ¡ntico', 'Loyola AndalucÃ\\xada',\n",
    "       'MondragÃ³n Unibertsitatea', 'RamÃ³n Llull']"
   ]
  },
  {
   "cell_type": "code",
   "execution_count": null,
   "id": "stone-damages",
   "metadata": {},
   "outputs": [],
   "source": [
    "raras_bien = ['Autónoma de Madrid', 'Cádiz', 'Córdoba', 'Jaén',\n",
    "       'Jaume I de Castellón', 'León', 'Málaga',\n",
    "       'Miguel Hernández de Elche',\n",
    "       'País Vasco/Euskal Herriko Unibertsitatea',\n",
    "       'Politécnica de Cartagena', 'Politécnica de Catalunya',\n",
    "       'Politécnica de Madrid', 'Politècnica de València',\n",
    "       'Pública de Navarra', 'València (Estudi General)',\n",
    "       'Universidades Públicas No Presenciales',\n",
    "       'Nacional de Educación a Distancia', 'Atlántico Medio',\n",
    "       'Camilo José Cela', 'Católica de Valencia San Vicente Mártir',\n",
    "       'Católica San Antonio',\n",
    "       'Católica Santa Teresa de Jesús de Ávila',\n",
    "       'Europea del Atlántico', 'Loyola Andalucía',\n",
    "       'Mondragón Unibertsitatea', 'Ramón Llull']"
   ]
  },
  {
   "cell_type": "code",
   "execution_count": null,
   "id": "caring-athletics",
   "metadata": {},
   "outputs": [],
   "source": [
    "dict_raro = {}\n",
    "for i in range (len(raras)):\n",
    "    dict_raro[f\"{raras[i]}\"] = f\"{raras_bien[i]}\""
   ]
  },
  {
   "cell_type": "code",
   "execution_count": null,
   "id": "hazardous-hamilton",
   "metadata": {},
   "outputs": [],
   "source": [
    "dict_raro"
   ]
  },
  {
   "cell_type": "code",
   "execution_count": null,
   "id": "recent-carrier",
   "metadata": {},
   "outputs": [],
   "source": [
    "dict_raro = {'AutÃ³noma de Madrid': 'Autónoma de Madrid',\n",
    " 'CÃ¡diz': 'Cádiz',\n",
    " 'CÃ³rdoba': 'Córdoba',\n",
    " 'JaÃ©n': 'Jaén',\n",
    " 'Jaume I de CastellÃ³n': 'Jaume I de Castellón',\n",
    " 'LeÃ³n': 'León',\n",
    " 'MÃ¡laga': 'Málaga',\n",
    " 'Miguel HernÃ¡ndez de Elche': 'Miguel Hernández de Elche',\n",
    " 'PaÃ\\xads Vasco/Euskal Herriko Unibertsitatea': 'País Vasco/Euskal Herriko Unibertsitatea',\n",
    " 'PolitÃ©cnica de Cartagena': 'Politécnica de Cartagena',\n",
    " 'PolitÃ©cnica de Catalunya': 'Politécnica de Catalunya',\n",
    " 'PolitÃ©cnica de Madrid': 'Politécnica de Madrid',\n",
    " 'PolitÃ¨cnica de ValÃ¨ncia': 'Politècnica de València',\n",
    " 'PÃºblica de Navarra': 'Pública de Navarra',\n",
    " 'ValÃ¨ncia (Estudi General)': 'València (Estudi General)',\n",
    " 'Universidades PÃºblicas No Presenciales': 'Universidades Públicas No Presenciales',\n",
    " 'Nacional de EducaciÃ³n a Distancia': 'Nacional de Educación a Distancia',\n",
    " 'AtlÃ¡ntico Medio': 'Atlántico Medio',\n",
    " 'Camilo JosÃ© Cela': 'Camilo José Cela',\n",
    " 'CatÃ³lica de Valencia San Vicente MÃ¡rtir': 'Católica de Valencia San Vicente Mártir',\n",
    " 'CatÃ³lica San Antonio': 'Católica San Antonio',\n",
    " 'CatÃ³lica Santa Teresa de JesÃºs de Ã\\x81vila': 'Católica Santa Teresa de Jesús de Ávila',\n",
    " 'Europea del AtlÃ¡ntico': 'Europea del Atlántico',\n",
    " 'Loyola AndalucÃ\\xada': 'Loyola Andalucía',\n",
    " 'MondragÃ³n Unibertsitatea': 'Mondragón Unibertsitatea',\n",
    " 'RamÃ³n Llull': 'Ramón Llull','A CoruÃ±a':'A Coruña', 'AlcalÃ¡': 'Alcalá',\n",
    "       'AlmerÃ\\xada':'Almería', 'AutÃ³noma de Barcelona':'Autónoma de Barcelona'}"
   ]
  },
  {
   "cell_type": "code",
   "execution_count": null,
   "id": "affected-drama",
   "metadata": {},
   "outputs": [],
   "source": [
    "frankenstein[\"Universidad\"].replace(dict_raro, inplace=True)"
   ]
  },
  {
   "cell_type": "code",
   "execution_count": null,
   "id": "cultural-algorithm",
   "metadata": {},
   "outputs": [],
   "source": [
    "filasno = ['Universidades Públicas No Presenciales','Universidades Públicas Especiales','Universidades Privadas',\n",
    "       'Universidades Privadas Presenciales','Universidades Privadas No Presenciales']"
   ]
  },
  {
   "cell_type": "code",
   "execution_count": null,
   "id": "genuine-ocean",
   "metadata": {},
   "outputs": [],
   "source": [
    "'''for ruta in rutas_csv:\n",
    "    for i in filasno:\n",
    "        df = pd.read_csv(ruta,encoding=\"ISO-8859-1\",skiprows=5)\n",
    "        df.columns = ['Universidad', 'Ciencias Sociales y Jurídicas',\n",
    "       'Ingeniería y Arquitectura', 'Artes y Humanidades',\n",
    "       'Ciencias de la Salud', 'Ciencias', 'Unnamed: 6']\n",
    "        df = df.drop(df[df.Universidad == i].index)\n",
    "        df[df.Universidad == i]\n",
    "        break\n",
    "    break'''"
   ]
  },
  {
   "cell_type": "code",
   "execution_count": null,
   "id": "capital-buffalo",
   "metadata": {},
   "outputs": [],
   "source": [
    "for i in filasno:\n",
    "    frankenstein = frankenstein.drop(frankenstein[frankenstein.Universidad == i].index)"
   ]
  },
  {
   "cell_type": "code",
   "execution_count": null,
   "id": "naval-lesson",
   "metadata": {},
   "outputs": [],
   "source": [
    "frankenstein[\"Universidad\"].unique()"
   ]
  },
  {
   "cell_type": "code",
   "execution_count": null,
   "id": "fifteen-simon",
   "metadata": {},
   "outputs": [],
   "source": [
    "frankenstein"
   ]
  },
  {
   "cell_type": "code",
   "execution_count": null,
   "id": "usual-cache",
   "metadata": {},
   "outputs": [],
   "source": [
    "frankenstein[\"Dedicacion\"].unique()"
   ]
  },
  {
   "cell_type": "code",
   "execution_count": null,
   "id": "legal-delta",
   "metadata": {},
   "outputs": [],
   "source": [
    "frankenstein[\"Dedicacion\"].replace({\"Total\":\"Tiempo Completo\"}, inplace=True)"
   ]
  },
  {
   "cell_type": "code",
   "execution_count": null,
   "id": "corporate-polish",
   "metadata": {},
   "outputs": [],
   "source": [
    "frankenstein.to_csv(\"../data/frankenstein_limpio.csv\",index=False)"
   ]
  }
 ],
 "metadata": {
  "kernelspec": {
   "display_name": "ironhack",
   "language": "python",
   "name": "ironhack"
  },
  "language_info": {
   "codemirror_mode": {
    "name": "ipython",
    "version": 3
   },
   "file_extension": ".py",
   "mimetype": "text/x-python",
   "name": "python",
   "nbconvert_exporter": "python",
   "pygments_lexer": "ipython3",
   "version": "3.8.5"
  },
  "toc": {
   "base_numbering": 1,
   "nav_menu": {},
   "number_sections": true,
   "sideBar": true,
   "skip_h1_title": false,
   "title_cell": "Table of Contents",
   "title_sidebar": "Contents",
   "toc_cell": true,
   "toc_position": {},
   "toc_section_display": true,
   "toc_window_display": false
  },
  "varInspector": {
   "cols": {
    "lenName": 16,
    "lenType": 16,
    "lenVar": 40
   },
   "kernels_config": {
    "python": {
     "delete_cmd_postfix": "",
     "delete_cmd_prefix": "del ",
     "library": "var_list.py",
     "varRefreshCmd": "print(var_dic_list())"
    },
    "r": {
     "delete_cmd_postfix": ") ",
     "delete_cmd_prefix": "rm(",
     "library": "var_list.r",
     "varRefreshCmd": "cat(var_dic_list()) "
    }
   },
   "types_to_exclude": [
    "module",
    "function",
    "builtin_function_or_method",
    "instance",
    "_Feature"
   ],
   "window_display": false
  }
 },
 "nbformat": 4,
 "nbformat_minor": 5
}
