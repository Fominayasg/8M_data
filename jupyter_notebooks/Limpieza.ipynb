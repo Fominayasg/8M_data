{
 "cells": [
  {
   "cell_type": "markdown",
   "id": "expanded-leeds",
   "metadata": {
    "toc": true
   },
   "source": [
    "<h1>Table of Contents<span class=\"tocSkip\"></span></h1>\n",
    "<div class=\"toc\"><ul class=\"toc-item\"><li><span><a href=\"#Importar-csv\" data-toc-modified-id=\"Importar-csv-1\"><span class=\"toc-item-num\">1&nbsp;&nbsp;</span>Importar <code>csv</code></a></span></li><li><span><a href=\"#Columnas\" data-toc-modified-id=\"Columnas-2\"><span class=\"toc-item-num\">2&nbsp;&nbsp;</span>Columnas</a></span></li></ul></div>"
   ]
  },
  {
   "cell_type": "code",
   "execution_count": 1,
   "id": "twenty-salad",
   "metadata": {},
   "outputs": [],
   "source": [
    "import pandas as pd #manejar dataframes(datos en formato tabular)\n",
    "import numpy as np #manejo de variables\n",
    "import chardet #descubrir encoding\n",
    "import plotly #hacer visualizaciones(gráficos preciosos)"
   ]
  },
  {
   "cell_type": "markdown",
   "id": "arranged-crown",
   "metadata": {},
   "source": [
    "# Importar `csv`"
   ]
  },
  {
   "cell_type": "code",
   "execution_count": 3,
   "id": "objective-browse",
   "metadata": {},
   "outputs": [],
   "source": [
    "pd.read_csv(\"../data/Master/Mat_Master_hom_Ded-comp_15-16.csv\")"
   ]
  },
  {
   "cell_type": "markdown",
   "id": "seeing-vegetarian",
   "metadata": {},
   "source": [
    "Vemos el error: `ParserError: Error tokenizing data. C error: Expected 3 fields in line 6, saw 7`, lo cual quiere decir que las 5 primeras filas parecen tener menos columnas que las siguientes y pandas se hace un lio... Vamos a abrir nuestro `.csv`con un editor de texto par ver que está pasando.\n",
    "\n",
    "Nos damos cuenta de que las 5 primeras 5 filas no nos sirven, así que nos las vamos a saltar."
   ]
  },
  {
   "cell_type": "code",
   "execution_count": 4,
   "id": "cultural-agriculture",
   "metadata": {},
   "outputs": [
    {
     "data": {
      "text/html": [
       "<div>\n",
       "<style scoped>\n",
       "    .dataframe tbody tr th:only-of-type {\n",
       "        vertical-align: middle;\n",
       "    }\n",
       "\n",
       "    .dataframe tbody tr th {\n",
       "        vertical-align: top;\n",
       "    }\n",
       "\n",
       "    .dataframe thead th {\n",
       "        text-align: right;\n",
       "    }\n",
       "</style>\n",
       "<table border=\"1\" class=\"dataframe\">\n",
       "  <thead>\n",
       "    <tr style=\"text-align: right;\">\n",
       "      <th></th>\n",
       "      <th>Unnamed: 0</th>\n",
       "      <th>Ciencias Sociales y Jur�dicas</th>\n",
       "      <th>Ingenier�a y Arquitectura</th>\n",
       "      <th>Artes y Humanidades</th>\n",
       "      <th>Ciencias de la Salud</th>\n",
       "      <th>Ciencias</th>\n",
       "      <th>Unnamed: 6</th>\n",
       "    </tr>\n",
       "  </thead>\n",
       "  <tbody>\n",
       "    <tr>\n",
       "      <th>0</th>\n",
       "      <td>NaN</td>\n",
       "      <td>2015-2016</td>\n",
       "      <td>2015-2016</td>\n",
       "      <td>2015-2016</td>\n",
       "      <td>2015-2016</td>\n",
       "      <td>2015-2016</td>\n",
       "      <td>NaN</td>\n",
       "    </tr>\n",
       "    <tr>\n",
       "      <th>1</th>\n",
       "      <td>NaN</td>\n",
       "      <td>Centro propio</td>\n",
       "      <td>Centro propio</td>\n",
       "      <td>Centro propio</td>\n",
       "      <td>Centro propio</td>\n",
       "      <td>Centro propio</td>\n",
       "      <td>NaN</td>\n",
       "    </tr>\n",
       "    <tr>\n",
       "      <th>2</th>\n",
       "      <td>NaN</td>\n",
       "      <td>Hombres</td>\n",
       "      <td>Hombres</td>\n",
       "      <td>Hombres</td>\n",
       "      <td>Hombres</td>\n",
       "      <td>Hombres</td>\n",
       "      <td>NaN</td>\n",
       "    </tr>\n",
       "    <tr>\n",
       "      <th>3</th>\n",
       "      <td>NaN</td>\n",
       "      <td>Tiempo Completo</td>\n",
       "      <td>Tiempo Completo</td>\n",
       "      <td>Tiempo Completo</td>\n",
       "      <td>Tiempo Completo</td>\n",
       "      <td>Tiempo Completo</td>\n",
       "      <td>NaN</td>\n",
       "    </tr>\n",
       "    <tr>\n",
       "      <th>4</th>\n",
       "      <td>A Coru�a</td>\n",
       "      <td>152.0</td>\n",
       "      <td>192.0</td>\n",
       "      <td>3.0</td>\n",
       "      <td>12.0</td>\n",
       "      <td>33.0</td>\n",
       "      <td>NaN</td>\n",
       "    </tr>\n",
       "    <tr>\n",
       "      <th>...</th>\n",
       "      <td>...</td>\n",
       "      <td>...</td>\n",
       "      <td>...</td>\n",
       "      <td>...</td>\n",
       "      <td>...</td>\n",
       "      <td>...</td>\n",
       "      <td>...</td>\n",
       "    </tr>\n",
       "    <tr>\n",
       "      <th>89</th>\n",
       "      <td>Internacional Isabel I de Castilla</td>\n",
       "      <td>361.0</td>\n",
       "      <td>0.0</td>\n",
       "      <td>0.0</td>\n",
       "      <td>0.0</td>\n",
       "      <td>0.0</td>\n",
       "      <td>NaN</td>\n",
       "    </tr>\n",
       "    <tr>\n",
       "      <th>90</th>\n",
       "      <td>Internacional Valenciana</td>\n",
       "      <td>765.0</td>\n",
       "      <td>0.0</td>\n",
       "      <td>42.0</td>\n",
       "      <td>29.0</td>\n",
       "      <td>49.0</td>\n",
       "      <td>NaN</td>\n",
       "    </tr>\n",
       "    <tr>\n",
       "      <th>91</th>\n",
       "      <td>Oberta de Catalunya</td>\n",
       "      <td>260.0</td>\n",
       "      <td>48.0</td>\n",
       "      <td>24.0</td>\n",
       "      <td>37.0</td>\n",
       "      <td>0.0</td>\n",
       "      <td>NaN</td>\n",
       "    </tr>\n",
       "    <tr>\n",
       "      <th>92</th>\n",
       "      <td>Notas:</td>\n",
       "      <td>NaN</td>\n",
       "      <td>NaN</td>\n",
       "      <td>NaN</td>\n",
       "      <td>NaN</td>\n",
       "      <td>NaN</td>\n",
       "      <td>NaN</td>\n",
       "    </tr>\n",
       "    <tr>\n",
       "      <th>93</th>\n",
       "      <td>Fuente: Sistema Integral de Informaci�n Univer...</td>\n",
       "      <td>NaN</td>\n",
       "      <td>NaN</td>\n",
       "      <td>NaN</td>\n",
       "      <td>NaN</td>\n",
       "      <td>NaN</td>\n",
       "      <td>NaN</td>\n",
       "    </tr>\n",
       "  </tbody>\n",
       "</table>\n",
       "<p>94 rows × 7 columns</p>\n",
       "</div>"
      ],
      "text/plain": [
       "                                           Unnamed: 0  \\\n",
       "0                                                 NaN   \n",
       "1                                                 NaN   \n",
       "2                                                 NaN   \n",
       "3                                                 NaN   \n",
       "4                                            A Coru�a   \n",
       "..                                                ...   \n",
       "89                 Internacional Isabel I de Castilla   \n",
       "90                           Internacional Valenciana   \n",
       "91                                Oberta de Catalunya   \n",
       "92                                             Notas:   \n",
       "93  Fuente: Sistema Integral de Informaci�n Univer...   \n",
       "\n",
       "   Ciencias Sociales y Jur�dicas Ingenier�a y Arquitectura  \\\n",
       "0                      2015-2016                 2015-2016   \n",
       "1                  Centro propio             Centro propio   \n",
       "2                        Hombres                   Hombres   \n",
       "3                Tiempo Completo           Tiempo Completo   \n",
       "4                          152.0                     192.0   \n",
       "..                           ...                       ...   \n",
       "89                         361.0                       0.0   \n",
       "90                         765.0                       0.0   \n",
       "91                         260.0                      48.0   \n",
       "92                           NaN                       NaN   \n",
       "93                           NaN                       NaN   \n",
       "\n",
       "   Artes y Humanidades Ciencias de la Salud         Ciencias  Unnamed: 6  \n",
       "0            2015-2016            2015-2016        2015-2016         NaN  \n",
       "1        Centro propio        Centro propio    Centro propio         NaN  \n",
       "2              Hombres              Hombres          Hombres         NaN  \n",
       "3      Tiempo Completo      Tiempo Completo  Tiempo Completo         NaN  \n",
       "4                  3.0                 12.0             33.0         NaN  \n",
       "..                 ...                  ...              ...         ...  \n",
       "89                 0.0                  0.0              0.0         NaN  \n",
       "90                42.0                 29.0             49.0         NaN  \n",
       "91                24.0                 37.0              0.0         NaN  \n",
       "92                 NaN                  NaN              NaN         NaN  \n",
       "93                 NaN                  NaN              NaN         NaN  \n",
       "\n",
       "[94 rows x 7 columns]"
      ]
     },
     "execution_count": 4,
     "metadata": {},
     "output_type": "execute_result"
    }
   ],
   "source": [
    "pd.read_csv(\"../data/Master/Mat_Master_hom_Ded-comp_15-16.csv\",skiprows=5)"
   ]
  },
  {
   "cell_type": "markdown",
   "id": "impressed-grove",
   "metadata": {},
   "source": [
    "¡BIEEEN! Ya vemos nuestros datos perfectamente ordenados, sin embargo parece que hay símbolos extraños... Concretamente si nos fijamos, esto ocurre en letras con tildes...letras`ñ`u otros simbolos propios del castellano concretamente(para entendernos, todos los que no existen en inglés).\n",
    "\n",
    "Esto probablemente se debe a que nuestro encoding no es demasiado apropiado, por defecto `pd.read_csv` utiliza el enconding `UTF-8`. Vamos a intentar averiguar cual es el encoding real de nuestros datos. "
   ]
  },
  {
   "cell_type": "code",
   "execution_count": 12,
   "id": "subjective-pearl",
   "metadata": {},
   "outputs": [
    {
     "name": "stdout",
     "output_type": "stream",
     "text": [
      "UTF-8\n"
     ]
    }
   ],
   "source": [
    "#Enseñar primero con   print (src_file) y luego añadir el encoding\n",
    "with open(\"../data/Master/Mat_Master_hom_Ded-comp_15-16.csv\") as src_file:\n",
    "    print (src_file.encoding)"
   ]
  },
  {
   "cell_type": "markdown",
   "id": "fiscal-honor",
   "metadata": {},
   "source": [
    "No me convence... probemos de otra manera\n",
    "\n",
    "[Biblioteca `chardet`](https://github.com/chardet/chardet)"
   ]
  },
  {
   "cell_type": "code",
   "execution_count": 13,
   "id": "constitutional-correlation",
   "metadata": {},
   "outputs": [
    {
     "name": "stdout",
     "output_type": "stream",
     "text": [
      "ISO-8859-1\n"
     ]
    }
   ],
   "source": [
    "with open(\"../data/Master/Mat_Master_hom_Ded-comp_15-16.csv\", 'rb') as f:\n",
    "    result = chardet.detect(f.read())\n",
    "    print (result['encoding'])"
   ]
  },
  {
   "cell_type": "code",
   "execution_count": 14,
   "id": "built-execution",
   "metadata": {},
   "outputs": [],
   "source": [
    "df =pd.read_csv(\"../data/Master/Mat_Master_hom_Ded-comp_15-16.csv\",encoding=\"ISO-8859-1\",skiprows=5)"
   ]
  },
  {
   "cell_type": "code",
   "execution_count": 16,
   "id": "opening-percentage",
   "metadata": {},
   "outputs": [
    {
     "data": {
      "text/html": [
       "<div>\n",
       "<style scoped>\n",
       "    .dataframe tbody tr th:only-of-type {\n",
       "        vertical-align: middle;\n",
       "    }\n",
       "\n",
       "    .dataframe tbody tr th {\n",
       "        vertical-align: top;\n",
       "    }\n",
       "\n",
       "    .dataframe thead th {\n",
       "        text-align: right;\n",
       "    }\n",
       "</style>\n",
       "<table border=\"1\" class=\"dataframe\">\n",
       "  <thead>\n",
       "    <tr style=\"text-align: right;\">\n",
       "      <th></th>\n",
       "      <th>Unnamed: 0</th>\n",
       "      <th>Ciencias Sociales y Jurídicas</th>\n",
       "      <th>Ingeniería y Arquitectura</th>\n",
       "      <th>Artes y Humanidades</th>\n",
       "      <th>Ciencias de la Salud</th>\n",
       "      <th>Ciencias</th>\n",
       "      <th>Unnamed: 6</th>\n",
       "    </tr>\n",
       "  </thead>\n",
       "  <tbody>\n",
       "    <tr>\n",
       "      <th>0</th>\n",
       "      <td>NaN</td>\n",
       "      <td>2015-2016</td>\n",
       "      <td>2015-2016</td>\n",
       "      <td>2015-2016</td>\n",
       "      <td>2015-2016</td>\n",
       "      <td>2015-2016</td>\n",
       "      <td>NaN</td>\n",
       "    </tr>\n",
       "    <tr>\n",
       "      <th>1</th>\n",
       "      <td>NaN</td>\n",
       "      <td>Centro propio</td>\n",
       "      <td>Centro propio</td>\n",
       "      <td>Centro propio</td>\n",
       "      <td>Centro propio</td>\n",
       "      <td>Centro propio</td>\n",
       "      <td>NaN</td>\n",
       "    </tr>\n",
       "    <tr>\n",
       "      <th>2</th>\n",
       "      <td>NaN</td>\n",
       "      <td>Hombres</td>\n",
       "      <td>Hombres</td>\n",
       "      <td>Hombres</td>\n",
       "      <td>Hombres</td>\n",
       "      <td>Hombres</td>\n",
       "      <td>NaN</td>\n",
       "    </tr>\n",
       "    <tr>\n",
       "      <th>3</th>\n",
       "      <td>NaN</td>\n",
       "      <td>Tiempo Completo</td>\n",
       "      <td>Tiempo Completo</td>\n",
       "      <td>Tiempo Completo</td>\n",
       "      <td>Tiempo Completo</td>\n",
       "      <td>Tiempo Completo</td>\n",
       "      <td>NaN</td>\n",
       "    </tr>\n",
       "    <tr>\n",
       "      <th>4</th>\n",
       "      <td>A Coruña</td>\n",
       "      <td>152.0</td>\n",
       "      <td>192.0</td>\n",
       "      <td>3.0</td>\n",
       "      <td>12.0</td>\n",
       "      <td>33.0</td>\n",
       "      <td>NaN</td>\n",
       "    </tr>\n",
       "    <tr>\n",
       "      <th>5</th>\n",
       "      <td>Alcalá</td>\n",
       "      <td>0.0</td>\n",
       "      <td>0.0</td>\n",
       "      <td>0.0</td>\n",
       "      <td>0.0</td>\n",
       "      <td>0.0</td>\n",
       "      <td>NaN</td>\n",
       "    </tr>\n",
       "    <tr>\n",
       "      <th>6</th>\n",
       "      <td>Alicante</td>\n",
       "      <td>265.0</td>\n",
       "      <td>155.0</td>\n",
       "      <td>53.0</td>\n",
       "      <td>13.0</td>\n",
       "      <td>51.0</td>\n",
       "      <td>NaN</td>\n",
       "    </tr>\n",
       "    <tr>\n",
       "      <th>7</th>\n",
       "      <td>Almería</td>\n",
       "      <td>232.0</td>\n",
       "      <td>38.0</td>\n",
       "      <td>14.0</td>\n",
       "      <td>48.0</td>\n",
       "      <td>9.0</td>\n",
       "      <td>NaN</td>\n",
       "    </tr>\n",
       "  </tbody>\n",
       "</table>\n",
       "</div>"
      ],
      "text/plain": [
       "  Unnamed: 0 Ciencias Sociales y Jurídicas Ingeniería y Arquitectura  \\\n",
       "0        NaN                     2015-2016                 2015-2016   \n",
       "1        NaN                 Centro propio             Centro propio   \n",
       "2        NaN                       Hombres                   Hombres   \n",
       "3        NaN               Tiempo Completo           Tiempo Completo   \n",
       "4   A Coruña                         152.0                     192.0   \n",
       "5     Alcalá                           0.0                       0.0   \n",
       "6   Alicante                         265.0                     155.0   \n",
       "7    Almería                         232.0                      38.0   \n",
       "\n",
       "  Artes y Humanidades Ciencias de la Salud         Ciencias  Unnamed: 6  \n",
       "0           2015-2016            2015-2016        2015-2016         NaN  \n",
       "1       Centro propio        Centro propio    Centro propio         NaN  \n",
       "2             Hombres              Hombres          Hombres         NaN  \n",
       "3     Tiempo Completo      Tiempo Completo  Tiempo Completo         NaN  \n",
       "4                 3.0                 12.0             33.0         NaN  \n",
       "5                 0.0                  0.0              0.0         NaN  \n",
       "6                53.0                 13.0             51.0         NaN  \n",
       "7                14.0                 48.0              9.0         NaN  "
      ]
     },
     "execution_count": 16,
     "metadata": {},
     "output_type": "execute_result"
    }
   ],
   "source": [
    "df.head(8)#nos muestra las primeras 5 filas por defecto pero podemos poner más"
   ]
  },
  {
   "cell_type": "markdown",
   "id": "running-baseball",
   "metadata": {},
   "source": [
    "# Columnas"
   ]
  },
  {
   "cell_type": "code",
   "execution_count": 17,
   "id": "czech-delta",
   "metadata": {},
   "outputs": [
    {
     "data": {
      "text/plain": [
       "Index(['Unnamed: 0', 'Ciencias Sociales y Jurídicas',\n",
       "       'Ingeniería y Arquitectura', 'Artes y Humanidades',\n",
       "       'Ciencias de la Salud', 'Ciencias', 'Unnamed: 6'],\n",
       "      dtype='object')"
      ]
     },
     "execution_count": 17,
     "metadata": {},
     "output_type": "execute_result"
    }
   ],
   "source": [
    "df.columns"
   ]
  },
  {
   "cell_type": "code",
   "execution_count": 20,
   "id": "leading-dryer",
   "metadata": {},
   "outputs": [
    {
     "data": {
      "text/html": [
       "<div>\n",
       "<style scoped>\n",
       "    .dataframe tbody tr th:only-of-type {\n",
       "        vertical-align: middle;\n",
       "    }\n",
       "\n",
       "    .dataframe tbody tr th {\n",
       "        vertical-align: top;\n",
       "    }\n",
       "\n",
       "    .dataframe thead th {\n",
       "        text-align: right;\n",
       "    }\n",
       "</style>\n",
       "<table border=\"1\" class=\"dataframe\">\n",
       "  <thead>\n",
       "    <tr style=\"text-align: right;\">\n",
       "      <th></th>\n",
       "      <th>Universidad</th>\n",
       "      <th>Ciencias Sociales y Jurídicas</th>\n",
       "      <th>Ingeniería y Arquitectura</th>\n",
       "      <th>Artes y Humanidades</th>\n",
       "      <th>Ciencias de la Salud</th>\n",
       "      <th>Ciencias</th>\n",
       "      <th>Unnamed: 6</th>\n",
       "    </tr>\n",
       "  </thead>\n",
       "  <tbody>\n",
       "    <tr>\n",
       "      <th>0</th>\n",
       "      <td>NaN</td>\n",
       "      <td>2015-2016</td>\n",
       "      <td>2015-2016</td>\n",
       "      <td>2015-2016</td>\n",
       "      <td>2015-2016</td>\n",
       "      <td>2015-2016</td>\n",
       "      <td>NaN</td>\n",
       "    </tr>\n",
       "    <tr>\n",
       "      <th>1</th>\n",
       "      <td>NaN</td>\n",
       "      <td>Centro propio</td>\n",
       "      <td>Centro propio</td>\n",
       "      <td>Centro propio</td>\n",
       "      <td>Centro propio</td>\n",
       "      <td>Centro propio</td>\n",
       "      <td>NaN</td>\n",
       "    </tr>\n",
       "    <tr>\n",
       "      <th>2</th>\n",
       "      <td>NaN</td>\n",
       "      <td>Hombres</td>\n",
       "      <td>Hombres</td>\n",
       "      <td>Hombres</td>\n",
       "      <td>Hombres</td>\n",
       "      <td>Hombres</td>\n",
       "      <td>NaN</td>\n",
       "    </tr>\n",
       "    <tr>\n",
       "      <th>3</th>\n",
       "      <td>NaN</td>\n",
       "      <td>Tiempo Completo</td>\n",
       "      <td>Tiempo Completo</td>\n",
       "      <td>Tiempo Completo</td>\n",
       "      <td>Tiempo Completo</td>\n",
       "      <td>Tiempo Completo</td>\n",
       "      <td>NaN</td>\n",
       "    </tr>\n",
       "    <tr>\n",
       "      <th>4</th>\n",
       "      <td>A Coruña</td>\n",
       "      <td>152.0</td>\n",
       "      <td>192.0</td>\n",
       "      <td>3.0</td>\n",
       "      <td>12.0</td>\n",
       "      <td>33.0</td>\n",
       "      <td>NaN</td>\n",
       "    </tr>\n",
       "  </tbody>\n",
       "</table>\n",
       "</div>"
      ],
      "text/plain": [
       "  Universidad Ciencias Sociales y Jurídicas Ingeniería y Arquitectura  \\\n",
       "0         NaN                     2015-2016                 2015-2016   \n",
       "1         NaN                 Centro propio             Centro propio   \n",
       "2         NaN                       Hombres                   Hombres   \n",
       "3         NaN               Tiempo Completo           Tiempo Completo   \n",
       "4    A Coruña                         152.0                     192.0   \n",
       "\n",
       "  Artes y Humanidades Ciencias de la Salud         Ciencias  Unnamed: 6  \n",
       "0           2015-2016            2015-2016        2015-2016         NaN  \n",
       "1       Centro propio        Centro propio    Centro propio         NaN  \n",
       "2             Hombres              Hombres          Hombres         NaN  \n",
       "3     Tiempo Completo      Tiempo Completo  Tiempo Completo         NaN  \n",
       "4                 3.0                 12.0             33.0         NaN  "
      ]
     },
     "execution_count": 20,
     "metadata": {},
     "output_type": "execute_result"
    }
   ],
   "source": [
    "df.columns = ['Universidad', 'Ciencias Sociales y Jurídicas',\n",
    "       'Ingeniería y Arquitectura', 'Artes y Humanidades',\n",
    "       'Ciencias de la Salud', 'Ciencias', 'Unnamed: 6']\n",
    "df.head()"
   ]
  },
  {
   "cell_type": "code",
   "execution_count": 22,
   "id": "abstract-reproduction",
   "metadata": {},
   "outputs": [
    {
     "data": {
      "text/plain": [
       "array([nan])"
      ]
     },
     "execution_count": 22,
     "metadata": {},
     "output_type": "execute_result"
    }
   ],
   "source": [
    "#Comprobamos qué contiene 'Unnamed: 6'\n",
    "df['Unnamed: 6'].unique()"
   ]
  },
  {
   "cell_type": "code",
   "execution_count": 25,
   "id": "beautiful-binding",
   "metadata": {},
   "outputs": [
    {
     "data": {
      "text/html": [
       "<div>\n",
       "<style scoped>\n",
       "    .dataframe tbody tr th:only-of-type {\n",
       "        vertical-align: middle;\n",
       "    }\n",
       "\n",
       "    .dataframe tbody tr th {\n",
       "        vertical-align: top;\n",
       "    }\n",
       "\n",
       "    .dataframe thead th {\n",
       "        text-align: right;\n",
       "    }\n",
       "</style>\n",
       "<table border=\"1\" class=\"dataframe\">\n",
       "  <thead>\n",
       "    <tr style=\"text-align: right;\">\n",
       "      <th></th>\n",
       "      <th>Universidad</th>\n",
       "      <th>Ciencias Sociales y Jurídicas</th>\n",
       "      <th>Ingeniería y Arquitectura</th>\n",
       "      <th>Artes y Humanidades</th>\n",
       "      <th>Ciencias de la Salud</th>\n",
       "      <th>Ciencias</th>\n",
       "    </tr>\n",
       "  </thead>\n",
       "  <tbody>\n",
       "    <tr>\n",
       "      <th>0</th>\n",
       "      <td>NaN</td>\n",
       "      <td>2015-2016</td>\n",
       "      <td>2015-2016</td>\n",
       "      <td>2015-2016</td>\n",
       "      <td>2015-2016</td>\n",
       "      <td>2015-2016</td>\n",
       "    </tr>\n",
       "    <tr>\n",
       "      <th>1</th>\n",
       "      <td>NaN</td>\n",
       "      <td>Centro propio</td>\n",
       "      <td>Centro propio</td>\n",
       "      <td>Centro propio</td>\n",
       "      <td>Centro propio</td>\n",
       "      <td>Centro propio</td>\n",
       "    </tr>\n",
       "    <tr>\n",
       "      <th>2</th>\n",
       "      <td>NaN</td>\n",
       "      <td>Hombres</td>\n",
       "      <td>Hombres</td>\n",
       "      <td>Hombres</td>\n",
       "      <td>Hombres</td>\n",
       "      <td>Hombres</td>\n",
       "    </tr>\n",
       "    <tr>\n",
       "      <th>3</th>\n",
       "      <td>NaN</td>\n",
       "      <td>Tiempo Completo</td>\n",
       "      <td>Tiempo Completo</td>\n",
       "      <td>Tiempo Completo</td>\n",
       "      <td>Tiempo Completo</td>\n",
       "      <td>Tiempo Completo</td>\n",
       "    </tr>\n",
       "    <tr>\n",
       "      <th>4</th>\n",
       "      <td>A Coruña</td>\n",
       "      <td>152.0</td>\n",
       "      <td>192.0</td>\n",
       "      <td>3.0</td>\n",
       "      <td>12.0</td>\n",
       "      <td>33.0</td>\n",
       "    </tr>\n",
       "    <tr>\n",
       "      <th>5</th>\n",
       "      <td>Alcalá</td>\n",
       "      <td>0.0</td>\n",
       "      <td>0.0</td>\n",
       "      <td>0.0</td>\n",
       "      <td>0.0</td>\n",
       "      <td>0.0</td>\n",
       "    </tr>\n",
       "    <tr>\n",
       "      <th>6</th>\n",
       "      <td>Alicante</td>\n",
       "      <td>265.0</td>\n",
       "      <td>155.0</td>\n",
       "      <td>53.0</td>\n",
       "      <td>13.0</td>\n",
       "      <td>51.0</td>\n",
       "    </tr>\n",
       "    <tr>\n",
       "      <th>7</th>\n",
       "      <td>Almería</td>\n",
       "      <td>232.0</td>\n",
       "      <td>38.0</td>\n",
       "      <td>14.0</td>\n",
       "      <td>48.0</td>\n",
       "      <td>9.0</td>\n",
       "    </tr>\n",
       "  </tbody>\n",
       "</table>\n",
       "</div>"
      ],
      "text/plain": [
       "  Universidad Ciencias Sociales y Jurídicas Ingeniería y Arquitectura  \\\n",
       "0         NaN                     2015-2016                 2015-2016   \n",
       "1         NaN                 Centro propio             Centro propio   \n",
       "2         NaN                       Hombres                   Hombres   \n",
       "3         NaN               Tiempo Completo           Tiempo Completo   \n",
       "4    A Coruña                         152.0                     192.0   \n",
       "5      Alcalá                           0.0                       0.0   \n",
       "6    Alicante                         265.0                     155.0   \n",
       "7     Almería                         232.0                      38.0   \n",
       "\n",
       "  Artes y Humanidades Ciencias de la Salud         Ciencias  \n",
       "0           2015-2016            2015-2016        2015-2016  \n",
       "1       Centro propio        Centro propio    Centro propio  \n",
       "2             Hombres              Hombres          Hombres  \n",
       "3     Tiempo Completo      Tiempo Completo  Tiempo Completo  \n",
       "4                 3.0                 12.0             33.0  \n",
       "5                 0.0                  0.0              0.0  \n",
       "6                53.0                 13.0             51.0  \n",
       "7                14.0                 48.0              9.0  "
      ]
     },
     "execution_count": 25,
     "metadata": {},
     "output_type": "execute_result"
    }
   ],
   "source": [
    "#Como solo tiene valores nulos, la borramos\n",
    "df.drop ('Unnamed: 6', axis =1, inplace=True)\n",
    "df.head(8)"
   ]
  },
  {
   "cell_type": "code",
   "execution_count": 37,
   "id": "apart-seller",
   "metadata": {},
   "outputs": [
    {
     "name": "stdout",
     "output_type": "stream",
     "text": [
      "2015-2016\n",
      "Centro propio\n",
      "Hombres\n",
      "Tiempo Completo\n",
      "152.0\n"
     ]
    }
   ],
   "source": [
    "#df.iloc(eje 0-fila/1-columna)[numero de fila/columna][posicion dentro de la fila/columna])\n",
    "print(df.iloc(1)[1][0])\n",
    "print(df.iloc(1)[1][1])\n",
    "print(df.iloc(1)[1][2])\n",
    "print(df.iloc(1)[1][3])\n",
    "print(df.iloc(1)[1][4]) #ya no me va a interesar"
   ]
  },
  {
   "cell_type": "code",
   "execution_count": 40,
   "id": "periodic-warning",
   "metadata": {},
   "outputs": [
    {
     "name": "stdout",
     "output_type": "stream",
     "text": [
      "range(0, 4)\n",
      "____________________________________\n",
      "0\n",
      "1\n",
      "2\n",
      "3\n"
     ]
    }
   ],
   "source": [
    "#Para no hardcodearlo(escrbirlo a mano uno por uno) haremos un bucle\n",
    "\n",
    "\n",
    "print(range(4)) #me da un rango de cero a 4\n",
    "print (\"____________________________________\")\n",
    "\n",
    "for item in range(4):\n",
    "    print (item)"
   ]
  },
  {
   "cell_type": "markdown",
   "id": "generous-front",
   "metadata": {},
   "source": [
    "¿¿¿¿Qué ha pasado con el 4????\n",
    "\n",
    "En Python hay que tener en cuenta que en los rangos no se incluye el último elemento.\n",
    "\n",
    "En este caso nos viene perfecto porque la fila en posición 4 ya no nos interesa. Solo queremos la información de la 0 a la 3."
   ]
  },
  {
   "cell_type": "code",
   "execution_count": null,
   "id": "ethical-denver",
   "metadata": {},
   "outputs": [],
   "source": [
    "def columnitas(df):\n",
    "    lista_col =[\"Curso\", \"Tipo_centro\",\"Sexo\",\"Dedicacion\"]\n",
    "    for i in range (4):\n",
    "        df[f\"{lista_col[i]}\"] = df.iloc(1)[1][i]"
   ]
  },
  {
   "cell_type": "code",
   "execution_count": null,
   "id": "objective-conditioning",
   "metadata": {},
   "outputs": [],
   "source": [
    "columnitas(df)"
   ]
  },
  {
   "cell_type": "code",
   "execution_count": null,
   "id": "minute-mystery",
   "metadata": {},
   "outputs": [],
   "source": [
    "df"
   ]
  },
  {
   "cell_type": "code",
   "execution_count": null,
   "id": "retired-science",
   "metadata": {},
   "outputs": [],
   "source": [
    "df = df.iloc(0)[4:-2]\n",
    "df.tail()"
   ]
  },
  {
   "cell_type": "code",
   "execution_count": null,
   "id": "pediatric-ceramic",
   "metadata": {},
   "outputs": [],
   "source": [
    "df.head()"
   ]
  }
 ],
 "metadata": {
  "kernelspec": {
   "display_name": "ironhack",
   "language": "python",
   "name": "ironhack"
  },
  "language_info": {
   "codemirror_mode": {
    "name": "ipython",
    "version": 3
   },
   "file_extension": ".py",
   "mimetype": "text/x-python",
   "name": "python",
   "nbconvert_exporter": "python",
   "pygments_lexer": "ipython3",
   "version": "3.8.5"
  },
  "toc": {
   "base_numbering": 1,
   "nav_menu": {},
   "number_sections": true,
   "sideBar": true,
   "skip_h1_title": false,
   "title_cell": "Table of Contents",
   "title_sidebar": "Contents",
   "toc_cell": true,
   "toc_position": {},
   "toc_section_display": true,
   "toc_window_display": false
  },
  "varInspector": {
   "cols": {
    "lenName": 16,
    "lenType": 16,
    "lenVar": 40
   },
   "kernels_config": {
    "python": {
     "delete_cmd_postfix": "",
     "delete_cmd_prefix": "del ",
     "library": "var_list.py",
     "varRefreshCmd": "print(var_dic_list())"
    },
    "r": {
     "delete_cmd_postfix": ") ",
     "delete_cmd_prefix": "rm(",
     "library": "var_list.r",
     "varRefreshCmd": "cat(var_dic_list()) "
    }
   },
   "types_to_exclude": [
    "module",
    "function",
    "builtin_function_or_method",
    "instance",
    "_Feature"
   ],
   "window_display": false
  }
 },
 "nbformat": 4,
 "nbformat_minor": 5
}
