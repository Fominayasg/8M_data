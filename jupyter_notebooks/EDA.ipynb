{
 "cells": [
  {
   "cell_type": "markdown",
   "metadata": {
    "toc": true
   },
   "source": [
    "<h1>Table of Contents<span class=\"tocSkip\"></span></h1>\n",
    "<div class=\"toc\"><ul class=\"toc-item\"></ul></div>"
   ]
  },
  {
   "cell_type": "code",
   "execution_count": 56,
   "metadata": {},
   "outputs": [],
   "source": [
    "import pandas as pd\n",
    "import numpy as np\n",
    "import chardet\n",
    "import plotly"
   ]
  },
  {
   "cell_type": "code",
   "execution_count": 65,
   "metadata": {
    "scrolled": true
   },
   "outputs": [],
   "source": [
    "df =pd.read_csv(\"../data/Master/Mat_Master_hom_Ded-comp_15-16_ads.csv\", encoding=\"ISO-8859-1\")"
   ]
  },
  {
   "cell_type": "code",
   "execution_count": 66,
   "metadata": {},
   "outputs": [
    {
     "data": {
      "text/html": [
       "<div>\n",
       "<style scoped>\n",
       "    .dataframe tbody tr th:only-of-type {\n",
       "        vertical-align: middle;\n",
       "    }\n",
       "\n",
       "    .dataframe tbody tr th {\n",
       "        vertical-align: top;\n",
       "    }\n",
       "\n",
       "    .dataframe thead th {\n",
       "        text-align: right;\n",
       "    }\n",
       "</style>\n",
       "<table border=\"1\" class=\"dataframe\">\n",
       "  <thead>\n",
       "    <tr style=\"text-align: right;\">\n",
       "      <th></th>\n",
       "      <th>Universidad</th>\n",
       "      <th>Ciencias Sociales y Jurídicas</th>\n",
       "      <th>Ingeniería y Arquitectura</th>\n",
       "      <th>Artes y Humanidades</th>\n",
       "      <th>Ciencias de la Salud</th>\n",
       "      <th>Ciencias</th>\n",
       "      <th>Unnamed: 6</th>\n",
       "    </tr>\n",
       "  </thead>\n",
       "  <tbody>\n",
       "    <tr>\n",
       "      <th>0</th>\n",
       "      <td>NaN</td>\n",
       "      <td>2015-2016</td>\n",
       "      <td>2015-2016</td>\n",
       "      <td>2015-2016</td>\n",
       "      <td>2015-2016</td>\n",
       "      <td>2015-2016</td>\n",
       "      <td>NaN</td>\n",
       "    </tr>\n",
       "    <tr>\n",
       "      <th>1</th>\n",
       "      <td>NaN</td>\n",
       "      <td>Centro adscrito</td>\n",
       "      <td>Centro adscrito</td>\n",
       "      <td>Centro adscrito</td>\n",
       "      <td>Centro adscrito</td>\n",
       "      <td>Centro adscrito</td>\n",
       "      <td>NaN</td>\n",
       "    </tr>\n",
       "    <tr>\n",
       "      <th>2</th>\n",
       "      <td>NaN</td>\n",
       "      <td>Hombres</td>\n",
       "      <td>Hombres</td>\n",
       "      <td>Hombres</td>\n",
       "      <td>Hombres</td>\n",
       "      <td>Hombres</td>\n",
       "      <td>NaN</td>\n",
       "    </tr>\n",
       "    <tr>\n",
       "      <th>3</th>\n",
       "      <td>NaN</td>\n",
       "      <td>Tiempo Completo</td>\n",
       "      <td>Tiempo Completo</td>\n",
       "      <td>Tiempo Completo</td>\n",
       "      <td>Tiempo Completo</td>\n",
       "      <td>Tiempo Completo</td>\n",
       "      <td>NaN</td>\n",
       "    </tr>\n",
       "    <tr>\n",
       "      <th>4</th>\n",
       "      <td>A Coruña</td>\n",
       "      <td>0.0</td>\n",
       "      <td>0.0</td>\n",
       "      <td>0.0</td>\n",
       "      <td>0.0</td>\n",
       "      <td>0.0</td>\n",
       "      <td>NaN</td>\n",
       "    </tr>\n",
       "    <tr>\n",
       "      <th>...</th>\n",
       "      <td>...</td>\n",
       "      <td>...</td>\n",
       "      <td>...</td>\n",
       "      <td>...</td>\n",
       "      <td>...</td>\n",
       "      <td>...</td>\n",
       "      <td>...</td>\n",
       "    </tr>\n",
       "    <tr>\n",
       "      <th>89</th>\n",
       "      <td>Internacional Isabel I de Castilla</td>\n",
       "      <td>0.0</td>\n",
       "      <td>0.0</td>\n",
       "      <td>0.0</td>\n",
       "      <td>0.0</td>\n",
       "      <td>0.0</td>\n",
       "      <td>NaN</td>\n",
       "    </tr>\n",
       "    <tr>\n",
       "      <th>90</th>\n",
       "      <td>Internacional Valenciana</td>\n",
       "      <td>0.0</td>\n",
       "      <td>0.0</td>\n",
       "      <td>0.0</td>\n",
       "      <td>0.0</td>\n",
       "      <td>0.0</td>\n",
       "      <td>NaN</td>\n",
       "    </tr>\n",
       "    <tr>\n",
       "      <th>91</th>\n",
       "      <td>Oberta de Catalunya</td>\n",
       "      <td>0.0</td>\n",
       "      <td>0.0</td>\n",
       "      <td>0.0</td>\n",
       "      <td>0.0</td>\n",
       "      <td>0.0</td>\n",
       "      <td>NaN</td>\n",
       "    </tr>\n",
       "    <tr>\n",
       "      <th>92</th>\n",
       "      <td>Notas:</td>\n",
       "      <td>NaN</td>\n",
       "      <td>NaN</td>\n",
       "      <td>NaN</td>\n",
       "      <td>NaN</td>\n",
       "      <td>NaN</td>\n",
       "      <td>NaN</td>\n",
       "    </tr>\n",
       "    <tr>\n",
       "      <th>93</th>\n",
       "      <td>Fuente: Sistema Integral de Información Univer...</td>\n",
       "      <td>NaN</td>\n",
       "      <td>NaN</td>\n",
       "      <td>NaN</td>\n",
       "      <td>NaN</td>\n",
       "      <td>NaN</td>\n",
       "      <td>NaN</td>\n",
       "    </tr>\n",
       "  </tbody>\n",
       "</table>\n",
       "<p>94 rows × 7 columns</p>\n",
       "</div>"
      ],
      "text/plain": [
       "                                          Universidad  \\\n",
       "0                                                 NaN   \n",
       "1                                                 NaN   \n",
       "2                                                 NaN   \n",
       "3                                                 NaN   \n",
       "4                                            A Coruña   \n",
       "..                                                ...   \n",
       "89                 Internacional Isabel I de Castilla   \n",
       "90                           Internacional Valenciana   \n",
       "91                                Oberta de Catalunya   \n",
       "92                                             Notas:   \n",
       "93  Fuente: Sistema Integral de Información Univer...   \n",
       "\n",
       "   Ciencias Sociales y Jurídicas Ingeniería y Arquitectura  \\\n",
       "0                      2015-2016                 2015-2016   \n",
       "1                Centro adscrito           Centro adscrito   \n",
       "2                        Hombres                   Hombres   \n",
       "3                Tiempo Completo           Tiempo Completo   \n",
       "4                            0.0                       0.0   \n",
       "..                           ...                       ...   \n",
       "89                           0.0                       0.0   \n",
       "90                           0.0                       0.0   \n",
       "91                           0.0                       0.0   \n",
       "92                           NaN                       NaN   \n",
       "93                           NaN                       NaN   \n",
       "\n",
       "   Artes y Humanidades Ciencias de la Salud         Ciencias  Unnamed: 6  \n",
       "0            2015-2016            2015-2016        2015-2016         NaN  \n",
       "1      Centro adscrito      Centro adscrito  Centro adscrito         NaN  \n",
       "2              Hombres              Hombres          Hombres         NaN  \n",
       "3      Tiempo Completo      Tiempo Completo  Tiempo Completo         NaN  \n",
       "4                  0.0                  0.0              0.0         NaN  \n",
       "..                 ...                  ...              ...         ...  \n",
       "89                 0.0                  0.0              0.0         NaN  \n",
       "90                 0.0                  0.0              0.0         NaN  \n",
       "91                 0.0                  0.0              0.0         NaN  \n",
       "92                 NaN                  NaN              NaN         NaN  \n",
       "93                 NaN                  NaN              NaN         NaN  \n",
       "\n",
       "[94 rows x 7 columns]"
      ]
     },
     "execution_count": 66,
     "metadata": {},
     "output_type": "execute_result"
    }
   ],
   "source": [
    "df"
   ]
  },
  {
   "cell_type": "code",
   "execution_count": 64,
   "metadata": {},
   "outputs": [
    {
     "ename": "FileNotFoundError",
     "evalue": "[Errno 2] No such file or directory: '../data/master/Mat_Master_hom_Ded-comp_15-16_otros'",
     "output_type": "error",
     "traceback": [
      "\u001b[0;31m---------------------------------------------------------------------------\u001b[0m",
      "\u001b[0;31mFileNotFoundError\u001b[0m                         Traceback (most recent call last)",
      "\u001b[0;32m<ipython-input-64-3107e8f16e2e>\u001b[0m in \u001b[0;36m<module>\u001b[0;34m\u001b[0m\n\u001b[0;32m----> 1\u001b[0;31m \u001b[0;32mwith\u001b[0m \u001b[0mopen\u001b[0m\u001b[0;34m(\u001b[0m\u001b[0;34m\"../data/master/Mat_Master_hom_Ded-comp_15-16_otros\"\u001b[0m\u001b[0;34m,\u001b[0m \u001b[0;34m'rb'\u001b[0m\u001b[0;34m)\u001b[0m \u001b[0;32mas\u001b[0m \u001b[0mrawdata\u001b[0m\u001b[0;34m:\u001b[0m\u001b[0;34m\u001b[0m\u001b[0;34m\u001b[0m\u001b[0m\n\u001b[0m\u001b[1;32m      2\u001b[0m     \u001b[0mresult\u001b[0m \u001b[0;34m=\u001b[0m \u001b[0mchardet\u001b[0m\u001b[0;34m.\u001b[0m\u001b[0mdetect\u001b[0m\u001b[0;34m(\u001b[0m\u001b[0mrawdata\u001b[0m\u001b[0;34m.\u001b[0m\u001b[0mread\u001b[0m\u001b[0;34m(\u001b[0m\u001b[0;36m10000\u001b[0m\u001b[0;34m)\u001b[0m\u001b[0;34m)\u001b[0m\u001b[0;34m\u001b[0m\u001b[0;34m\u001b[0m\u001b[0m\n\u001b[1;32m      3\u001b[0m \u001b[0;34m\u001b[0m\u001b[0m\n\u001b[1;32m      4\u001b[0m \u001b[0;31m# check what the character encoding might be\u001b[0m\u001b[0;34m\u001b[0m\u001b[0;34m\u001b[0m\u001b[0;34m\u001b[0m\u001b[0m\n\u001b[1;32m      5\u001b[0m \u001b[0mprint\u001b[0m\u001b[0;34m(\u001b[0m\u001b[0mresult\u001b[0m\u001b[0;34m)\u001b[0m\u001b[0;34m\u001b[0m\u001b[0;34m\u001b[0m\u001b[0m\n",
      "\u001b[0;31mFileNotFoundError\u001b[0m: [Errno 2] No such file or directory: '../data/master/Mat_Master_hom_Ded-comp_15-16_otros'"
     ]
    }
   ],
   "source": [
    "with open(\"../data/Master/Mat_Master_hom_Ded-comp_15-16.csv\", 'rb') as rawdata:\n",
    "    result = chardet.detect(rawdata.read(10000))\n",
    "\n",
    "# check what the character encoding might be\n",
    "print(result)"
   ]
  },
  {
   "cell_type": "code",
   "execution_count": 9,
   "metadata": {},
   "outputs": [],
   "source": [
    "def get_file_encoding(src_file_path):\n",
    "    \"\"\"\n",
    "    Get the encoding type of a file\n",
    "    :param src_file_path: file path\n",
    "    :return: str - file encoding type\n",
    "    \"\"\"\n",
    "\n",
    "    with open(src_file_path) as src_file:\n",
    "        return src_file.encoding\n",
    "    \n",
    "\n",
    "def get_file_encoding_chardet(file_path):\n",
    "    \"\"\"\n",
    "    Get the encoding of a file using chardet package\n",
    "    :param file_path:\n",
    "    :return:\n",
    "    \"\"\"\n",
    "    with open(file_path, 'rb') as f:\n",
    "\n",
    "        result = chardet.detect(f.read())\n",
    "        return result['encoding']\n",
    "\n",
    "\n"
   ]
  },
  {
   "cell_type": "code",
   "execution_count": 11,
   "metadata": {},
   "outputs": [
    {
     "name": "stdout",
     "output_type": "stream",
     "text": [
      "Please enter csv filename: ../data/Master/Mat_Master_hom_Ded-comp_15-16.csv\n",
      "Endcoding: UTF-8\n",
      "Endcoding with chardet: ISO-8859-1\n"
     ]
    }
   ],
   "source": [
    "csv_file_path = input('Please enter csv filename: ')\n",
    "print('Endcoding: ' + str(get_file_encoding(csv_file_path)))\n",
    "print('Endcoding with chardet: ' + str(get_file_encoding_chardet(csv_file_path)))\n",
    "#Copy\n",
    " \n",
    "#Results\n",
    "#“Simple” CSV"
   ]
  }
 ],
 "metadata": {
  "kernelspec": {
   "display_name": "ironhack",
   "language": "python",
   "name": "ironhack"
  },
  "language_info": {
   "codemirror_mode": {
    "name": "ipython",
    "version": 3
   },
   "file_extension": ".py",
   "mimetype": "text/x-python",
   "name": "python",
   "nbconvert_exporter": "python",
   "pygments_lexer": "ipython3",
   "version": "3.8.5"
  },
  "toc": {
   "base_numbering": 1,
   "nav_menu": {},
   "number_sections": true,
   "sideBar": true,
   "skip_h1_title": false,
   "title_cell": "Table of Contents",
   "title_sidebar": "Contents",
   "toc_cell": true,
   "toc_position": {},
   "toc_section_display": true,
   "toc_window_display": false
  },
  "varInspector": {
   "cols": {
    "lenName": 16,
    "lenType": 16,
    "lenVar": 40
   },
   "kernels_config": {
    "python": {
     "delete_cmd_postfix": "",
     "delete_cmd_prefix": "del ",
     "library": "var_list.py",
     "varRefreshCmd": "print(var_dic_list())"
    },
    "r": {
     "delete_cmd_postfix": ") ",
     "delete_cmd_prefix": "rm(",
     "library": "var_list.r",
     "varRefreshCmd": "cat(var_dic_list()) "
    }
   },
   "types_to_exclude": [
    "module",
    "function",
    "builtin_function_or_method",
    "instance",
    "_Feature"
   ],
   "window_display": false
  }
 },
 "nbformat": 4,
 "nbformat_minor": 4
}
